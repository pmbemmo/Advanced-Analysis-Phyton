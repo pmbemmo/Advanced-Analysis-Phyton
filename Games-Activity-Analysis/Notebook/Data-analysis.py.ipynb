{
 "cells": [
  {
   "cell_type": "code",
   "execution_count": 0,
   "metadata": {
    "application/vnd.databricks.v1+cell": {
     "cellMetadata": {
      "byteLimit": 2048000,
      "rowLimit": 10000
     },
     "inputWidgets": {},
     "nuid": "04ca160f-4678-473d-8935-7a24c5106e3f",
     "showTitle": false,
     "tableResultSettingsMap": {},
     "title": ""
    }
   },
   "outputs": [],
   "source": []
  },
  {
   "cell_type": "markdown",
   "metadata": {
    "application/vnd.databricks.v1+cell": {
     "cellMetadata": {
      "byteLimit": 2048000,
      "rowLimit": 10000
     },
     "inputWidgets": {},
     "nuid": "097342d6-28f1-4dbc-b9f0-eac3755d849e",
     "showTitle": false,
     "tableResultSettingsMap": {},
     "title": ""
    },
    "jupyter": {
     "outputs_hidden": true
    }
   },
   "source": [
    "# Load of Data"
   ]
  },
  {
   "cell_type": "code",
   "execution_count": 0,
   "metadata": {
    "application/vnd.databricks.v1+cell": {
     "cellMetadata": {
      "byteLimit": 2048000,
      "rowLimit": 10000
     },
     "inputWidgets": {},
     "nuid": "90ec4d1a-73ec-4089-88da-cea896b6d9e0",
     "showTitle": false,
     "tableResultSettingsMap": {},
     "title": ""
    }
   },
   "outputs": [],
   "source": [
    "# Install the necessary library\n",
    "%pip install prophet statsmodels seaborn matplotlib\n",
    "\n",
    "# Import necessary libraries\n",
    "import matplotlib.pyplot as plt\n",
    "import seaborn as sns\n",
    "from pyspark.sql.functions import min, col, date_add, sum, count\n",
    "from statsmodels.tsa.arima.model import ARIMA\n",
    "from prophet import Prophet\n",
    "\n",
    "# Load the fact_player_activity table to a Dataframe\n",
    "fact_player_activity = spark.table(\"dev_catalog.gold.fact_player_activity\")"
   ]
  },
  {
   "cell_type": "markdown",
   "metadata": {
    "application/vnd.databricks.v1+cell": {
     "cellMetadata": {
      "byteLimit": 2048000,
      "rowLimit": 10000
     },
     "inputWidgets": {},
     "nuid": "9dfc8327-fce8-40dd-9c55-178414087105",
     "showTitle": false,
     "tableResultSettingsMap": {},
     "title": ""
    }
   },
   "source": [
    "# Advanced Analysis of Game Player Behavior\n",
    "- Player retention rate after 1, 7, and 30 days.\n",
    "- Player retention rate over time.\n",
    "- Average sessions per player and per game."
   ]
  },
  {
   "cell_type": "code",
   "execution_count": 0,
   "metadata": {
    "application/vnd.databricks.v1+cell": {
     "cellMetadata": {
      "byteLimit": 2048000,
      "rowLimit": 10000
     },
     "inputWidgets": {},
     "nuid": "91f5b71d-7ae2-4e43-892d-1b768fdde938",
     "showTitle": false,
     "tableResultSettingsMap": {},
     "title": ""
    }
   },
   "outputs": [],
   "source": [
    "from pyspark.sql.functions import min, col, date_add, sum, count\n",
    "\n",
    "# Retention Analysis (D1, D7, D30)\n",
    "new_players = fact_player_activity.groupBy(\"sk_id_game\").agg(min(\"start_time\").alias(\"first_session\"))\n",
    "retention_df = fact_player_activity.join(new_players, \"sk_id_game\") \\\n",
    "    .withColumn(\"is_D1\", (col(\"start_time\") == date_add(col(\"first_session\"), 1)).cast(\"int\")) \\\n",
    "    .withColumn(\"is_D7\", (col(\"start_time\") == date_add(col(\"first_session\"), 7)).cast(\"int\")) \\\n",
    "    .withColumn(\"is_D30\", (col(\"start_time\") == date_add(col(\"first_session\"), 30)).cast(\"int\"))\n",
    "\n",
    "retention_rates = retention_df.agg(\n",
    "    (sum(\"is_D1\") / count(\"PlayerID\") * 100).alias(\"D1_Retention\"),\n",
    "    (sum(\"is_D7\") / count(\"PlayerID\") * 100).alias(\"D7_Retention\"),\n",
    "    (sum(\"is_D30\") / count(\"PlayerID\") * 100).alias(\"D30_Retention\")\n",
    ")\n",
    "# Convert to Pandas for Visualization\n",
    "retention_pd = retention_rates.toPandas()\n",
    "\n",
    "# Plot Retention Rates with Seaborn\n",
    "plt.figure(figsize=(8, 5))\n",
    "sns.barplot(x=[\"D1\", \"D7\", \"D30\"], y=retention_pd.iloc[0], palette=\"coolwarm\")\n",
    "plt.xlabel(\"Days\")\n",
    "plt.ylabel(\"Retention Rate (%)\")\n",
    "plt.title(\"Player Retention Over Time\")\n",
    "plt.ylim(0, 100)\n",
    "plt.show()\n",
    "\n",
    "# Additional Visualization: Session Duration Distribution\n",
    "plt.figure(figsize=(8, 5))\n",
    "sns.histplot(fact_player_activity.select(\"session_duration\").toPandas(), bins=30, kde=True, color='purple')\n",
    "plt.xlabel(\"Session Duration (seconds)\")\n",
    "plt.ylabel(\"Frequency\")\n",
    "plt.title(\"Distribution of Session Duration\")\n",
    "plt.show()\n",
    "\n",
    "# Advanced Visualization: Retention Line Plot\n",
    "plt.figure(figsize=(8, 5))\n",
    "sns.lineplot(x=[\"D1\", \"D7\", \"D30\"], y=retention_pd.iloc[0], marker=\"o\", linestyle=\"-\", color=\"blue\")\n",
    "plt.xlabel(\"Days\")\n",
    "plt.ylabel(\"Retention Rate (%)\")\n",
    "plt.title(\"Retention Trends Over Time\")\n",
    "plt.ylim(0, 100)\n",
    "plt.grid(True)\n",
    "plt.show()"
   ]
  },
  {
   "cell_type": "markdown",
   "metadata": {
    "application/vnd.databricks.v1+cell": {
     "cellMetadata": {
      "byteLimit": 2048000,
      "rowLimit": 10000
     },
     "inputWidgets": {},
     "nuid": "633b4a13-8f61-449f-9b43-b7e0e78b5047",
     "showTitle": false,
     "tableResultSettingsMap": {},
     "title": ""
    }
   },
   "source": [
    "# Optimization of Revenue and In-Game Purchases\n",
    "- Distribution of spending by player level.\n",
    "- Impact of quests and events on revenue.\n",
    "- Revenue forecasting using Time Series Forecasting (ARIMA, Prophet)."
   ]
  },
  {
   "cell_type": "code",
   "execution_count": 0,
   "metadata": {
    "application/vnd.databricks.v1+cell": {
     "cellMetadata": {
      "byteLimit": 2048000,
      "rowLimit": 10000
     },
     "inputWidgets": {},
     "nuid": "63d24c3f-8119-48ac-8da1-000f288243fd",
     "showTitle": false,
     "tableResultSettingsMap": {},
     "title": ""
    }
   },
   "outputs": [],
   "source": [
    "from pyspark.sql.functions import avg, sum, col\n",
    "import matplotlib.pyplot as plt\n",
    "import seaborn as sns\n",
    "import pandas as pd\n",
    "from statsmodels.tsa.arima.model import ARIMA\n",
    "from prophet import Prophet\n",
    "\n",
    "# Correlation Heatmap of Features\n",
    "feature_cols = [\"session_duration\", \"ExperiencePoints\", \"CurrencySpent\", \"QuestCompleted\"]\n",
    "feature_data = fact_player_activity.select(feature_cols).toPandas()\n",
    "plt.figure(figsize=(8, 6))\n",
    "sns.heatmap(feature_data.corr(), annot=True, cmap=\"coolwarm\", fmt=\".2f\")\n",
    "plt.title(\"Feature Correlation Heatmap\")\n",
    "plt.show()\n",
    "\n",
    "# Distribution of Spending by Player Level\n",
    "plt.figure(figsize=(8, 5))\n",
    "sns.boxplot(x=\"Level\", y=\"CurrencySpent\", data=fact_player_activity.select(\"Level\", \"CurrencySpent\").toPandas(), palette=\"coolwarm\")\n",
    "plt.xlabel(\"Player Level\")\n",
    "plt.ylabel(\"Currency Spent\")\n",
    "plt.title(\"Distribution of Spending by Player Level\")\n",
    "plt.show()\n",
    "\n",
    "# Impact of Quests and Events on Revenue\n",
    "quest_revenue_df = fact_player_activity.groupBy(\"QuestCompleted\").agg(avg(\"CurrencyEarned\").alias(\"Avg_Revenue\"))\n",
    "quest_revenue_pd = quest_revenue_df.toPandas()\n",
    "plt.figure(figsize=(8, 5))\n",
    "sns.barplot(x=\"QuestCompleted\", y=\"Avg_Revenue\", data=quest_revenue_pd, palette=\"coolwarm\")\n",
    "plt.xlabel(\"Quests Completed\")\n",
    "plt.ylabel(\"Average Revenue Earned\")\n",
    "plt.title(\"Impact of Quests on Revenue\")\n",
    "plt.show()\n",
    "\n",
    "# Revenue Forecasting using ARIMA\n",
    "revenue_df = fact_player_activity.groupBy(\"start_time\").agg(sum(\"CurrencyEarned\").alias(\"Total_Revenue\"))\n",
    "revenue_pd = revenue_df.toPandas()\n",
    "revenue_pd.set_index(\"start_time\", inplace=True)\n",
    "revenue_pd.sort_index(inplace=True)\n",
    "\n",
    "model = ARIMA(revenue_pd[\"Total_Revenue\"], order=(5,1,0))\n",
    "model_fit = model.fit()\n",
    "predictions = model_fit.forecast(steps=30)\n",
    "\n",
    "plt.figure(figsize=(10, 5))\n",
    "plt.plot(revenue_pd.index, revenue_pd[\"Total_Revenue\"], label=\"Actual Revenue\")\n",
    "plt.plot(pd.date_range(start=revenue_pd.index[-1], periods=30, freq='D'), predictions, label=\"Forecasted Revenue\", linestyle=\"dashed\", color=\"red\")\n",
    "plt.xlabel(\"Date\")\n",
    "plt.ylabel(\"Revenue\")\n",
    "plt.title(\"Revenue Forecasting (ARIMA)\")\n",
    "plt.legend()\n",
    "plt.show()\n",
    "\n",
    "# Revenue Forecasting using Prophet\n",
    "df_prophet = revenue_pd.reset_index().rename(columns={\"start_time\": \"ds\", \"Total_Revenue\": \"y\"})\n",
    "prophet = Prophet()\n",
    "prophet.fit(df_prophet)\n",
    "future = prophet.make_future_dataframe(periods=30)\n",
    "forecast = prophet.predict(future)\n",
    "\n",
    "plt.figure(figsize=(10, 5))\n",
    "plt.plot(df_prophet.ds, df_prophet.y, label=\"Actual Revenue\")\n",
    "plt.plot(forecast.ds, forecast.yhat, label=\"Forecasted Revenue (Prophet)\", linestyle=\"dashed\", color=\"green\")\n",
    "plt.xlabel(\"Date\")\n",
    "plt.ylabel(\"Revenue\")\n",
    "plt.title(\"Revenue Forecasting (Prophet)\")\n",
    "plt.legend()\n",
    "plt.show()"
   ]
  },
  {
   "cell_type": "markdown",
   "metadata": {
    "application/vnd.databricks.v1+cell": {
     "cellMetadata": {
      "byteLimit": 2048000,
      "rowLimit": 10000
     },
     "inputWidgets": {},
     "nuid": "c49b41d7-1912-41be-a343-e0fc75b69272",
     "showTitle": false,
     "tableResultSettingsMap": {},
     "title": ""
    }
   },
   "source": [
    "# Detection of Abnormal Behaviors\n",
    "- Players with an abnormal frequency of purchases.\n",
    "- Sessions with excessive playtime.\n",
    "- Detection of accounts playing 24/7 without pause (sign of botting)."
   ]
  },
  {
   "cell_type": "code",
   "execution_count": 0,
   "metadata": {
    "application/vnd.databricks.v1+cell": {
     "cellMetadata": {
      "byteLimit": 2048000,
      "rowLimit": 10000
     },
     "inputWidgets": {},
     "nuid": "1edded82-7a84-454a-861b-79673b46c1e5",
     "showTitle": false,
     "tableResultSettingsMap": {},
     "title": ""
    }
   },
   "outputs": [],
   "source": [
    "from pyspark.sql.functions import count, avg, stddev, col\n",
    "import matplotlib.pyplot as plt\n",
    "import seaborn as sns\n",
    "\n",
    "# Detecting Abnormal Purchase Frequency\n",
    "purchase_stats = fact_player_activity.groupBy(\"PlayerID\").agg(count(\"CurrencySpent\").alias(\"purchase_count\"), avg(\"CurrencySpent\").alias(\"avg_spent\"), stddev(\"CurrencySpent\").alias(\"std_spent\"))\n",
    "abnormal_purchases = purchase_stats.filter(col(\"purchase_count\") > (col(\"avg_spent\") + 3 * col(\"std_spent\")))\n",
    "abnormal_purchases_pd = abnormal_purchases.toPandas()\n",
    "\n",
    "plt.figure(figsize=(8, 5))\n",
    "sns.histplot(abnormal_purchases_pd[\"purchase_count\"], bins=20, kde=True, color=\"red\")\n",
    "plt.xlabel(\"Number of Purchases\")\n",
    "plt.ylabel(\"Count of Players\")\n",
    "plt.title(\"Distribution of Abnormal Purchase Frequency\")\n",
    "plt.show()\n",
    "\n",
    "# Detecting Sessions with Excessive Playtime\n",
    "excessive_sessions = fact_player_activity.filter(col(\"session_duration\") > (fact_player_activity.agg(avg(\"session_duration\")).collect()[0][0] + 3 * fact_player_activity.agg(stddev(\"session_duration\")).collect()[0][0]))\n",
    "excessive_sessions_pd = excessive_sessions.toPandas()\n",
    "\n",
    "# Convert Pandas DataFrames to Spark DataFrames\n",
    "excessive_sessions_pd_spark_df = spark.createDataFrame(excessive_sessions_pd)\n",
    "# Save to Delta tables\n",
    "excessive_sessions_pd_spark_df.write.format(\"delta\").mode(\"overwrite\").saveAsTable(\"dev_catalog.gold.agg_excessive_sessions_playtime\")\n",
    "\n",
    "plt.figure(figsize=(8, 5))\n",
    "sns.histplot(excessive_sessions_pd[\"session_duration\"], bins=20, kde=True, color=\"blue\")\n",
    "plt.xlabel(\"Session Duration (seconds)\")\n",
    "plt.ylabel(\"Count of Sessions\")\n",
    "plt.title(\"Distribution of Excessive Playtime Sessions\")\n",
    "plt.show()\n",
    "\n",
    "# Detecting 24/7 Botting Behavior\n",
    "continuous_play = fact_player_activity.groupBy(\"PlayerID\").agg(count(\"start_time\").alias(\"session_count\"))\n",
    "bot_accounts = continuous_play.filter(col(\"session_count\") > 50)  # Threshold can be adjusted\n",
    "bot_accounts_pd = bot_accounts.toPandas()\n",
    "\n",
    "plt.figure(figsize=(8, 5))\n",
    "sns.histplot(bot_accounts_pd[\"session_count\"], bins=20, kde=True, color=\"green\")\n",
    "plt.xlabel(\"Number of Sessions\")\n",
    "plt.ylabel(\"Count of Players\")\n",
    "plt.title(\"Distribution of Potential Bot Accounts\")\n",
    "plt.show()"
   ]
  }
 ],
 "metadata": {
  "application/vnd.databricks.v1+notebook": {
   "computePreferences": null,
   "dashboards": [],
   "environmentMetadata": {
    "base_environment": "",
    "environment_version": "2"
   },
   "inputWidgetPreferences": null,
   "language": "python",
   "notebookMetadata": {
    "mostRecentlyExecutedCommandWithImplicitDF": {
     "commandId": 1668528757499567,
     "dataframes": [
      "_sqldf"
     ]
    },
    "pythonIndentUnit": 4
   },
   "notebookName": "Data-analysis.py",
   "widgets": {}
  },
  "language_info": {
   "name": "python"
  }
 },
 "nbformat": 4,
 "nbformat_minor": 0
}
